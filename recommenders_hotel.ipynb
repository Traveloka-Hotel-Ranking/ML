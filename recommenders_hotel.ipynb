{
 "cells": [
  {
   "cell_type": "code",
   "execution_count": 1,
   "metadata": {},
   "outputs": [],
   "source": [
    "import pandas as pd\n",
    "import numpy as np\n",
    "import matplotlib.pyplot as plt\n",
    "import seaborn as sns\n",
    "import datetime"
   ]
  },
  {
   "cell_type": "code",
   "execution_count": 2,
   "metadata": {},
   "outputs": [
    {
     "name": "stdout",
     "output_type": "stream",
     "text": [
      "Note: you may need to restart the kernel to use updated packages.\n",
      "Note: you may need to restart the kernel to use updated packages.\n",
      "Note: you may need to restart the kernel to use updated packages.\n"
     ]
    }
   ],
   "source": [
    "%pip install -q tensorflow-recommenders\n",
    "%pip install -q --upgrade tensorflow-datasets\n",
    "%pip install -q tensorflow-ranking"
   ]
  },
  {
   "cell_type": "code",
   "execution_count": 3,
   "metadata": {},
   "outputs": [],
   "source": [
    "import tensorflow as tf\n",
    "from tensorflow.keras.models import Sequential\n",
    "from tensorflow.keras.layers import Dense, Dropout, Activation, Flatten, Embedding\n",
    "from tensorflow.keras import regularizers\n",
    "from tensorflow.keras.callbacks import EarlyStopping\n",
    "from tensorflow.keras import utils\n",
    "from tensorflow.keras.layers.experimental.preprocessing import StringLookup\n",
    "from tensorflow.keras.optimizers import Adam\n",
    "import tensorflow_recommenders as tfrs\n",
    "import tensorflow_ranking as tfr\n",
    "\n",
    "from typing import Dict, Text\n",
    "\n",
    "import logging\n",
    "import os\n",
    "\n",
    "os.environ['TF_CPP_MIN_LOG_LEVEL'] = '3'  # FATAL\n",
    "logging.getLogger('tensorflow').setLevel(logging.FATAL)"
   ]
  },
  {
   "cell_type": "code",
   "execution_count": 4,
   "metadata": {},
   "outputs": [],
   "source": [
    "data = pd.read_csv('D:/capston_ml/tfrs/dataset/clean_data.csv', nrows=100000)"
   ]
  },
  {
   "cell_type": "code",
   "execution_count": 5,
   "metadata": {},
   "outputs": [],
   "source": [
    "def preprocessing(df):\n",
    "    \n",
    "    #change to only year\n",
    "    df['date_time'] = pd.to_datetime(df['date_time'], format = '%Y-%m-%d').dt.year \n",
    "    \n",
    "    # if number of adult is 0, normally it means 1:\n",
    "    df['srch_adults_cnt'] = df['srch_adults_cnt'].map(lambda x: 1 if x == 0 else x)\n",
    "    \n",
    "    # if number of room is 0, normally it means 1:\n",
    "    df['srch_rm_cnt'] = df['srch_rm_cnt'].map(lambda x: 1 if x == 0 else x)\n",
    "\n",
    "    #categorise to 1 for short stay (1 day), 2 for normal stay (2 days to a week) and 3 for long stay (more than a week)\n",
    "    df['stay_length'] = df['stay_length'].map(lambda x: 1 if x<=1 else(2 if x in range(2, 8) else 3))\n",
    "    \n",
    "    #categorise to 1 for urgent booking (1 day), 2 for normal booking (2 days to a month in advance) and 3 for advance booking (more than a month prior)\n",
    "    df['days_to_checkin']= df['days_to_checkin'].map(lambda x: 1 if x<=1 else(2 if x in range(2, 30) else 3))\n",
    "    \n",
    "    return df\n",
    "\n",
    "data = preprocessing(data)"
   ]
  },
  {
   "cell_type": "code",
   "execution_count": 6,
   "metadata": {},
   "outputs": [],
   "source": [
    "most_popular_hotel_clusters = list(data['hotel_cluster'].value_counts()[:].index)\n",
    "data_sub = data[data['hotel_cluster'].map(lambda x: x in most_popular_hotel_clusters)]\n",
    "data_sub = data_sub[:]\n",
    "\n",
    "preference = data_sub.drop(['date_time','cnt'], axis = 1).astype(str)\n",
    "hotel_cluster = data_sub[['hotel_cluster']].astype(str)"
   ]
  },
  {
   "cell_type": "code",
   "execution_count": 7,
   "metadata": {},
   "outputs": [],
   "source": [
    "# changing data to tf.Dataset format\n",
    "\n",
    "preference = tf.data.Dataset.from_tensor_slices(dict(preference))\n",
    "preference = preference.map(lambda x: {'hotel_cluster': x['hotel_cluster'],\n",
    "                                       'user_id': x['user_id'],\n",
    "                                       'user_location_city': x['user_location_city'],\n",
    "                                       'is_mobile': x['is_mobile'],\n",
    "                                       'is_package': x['is_package'],\n",
    "                                       'channel': x['channel'],\n",
    "                                       'srch_adults_cnt': x['srch_adults_cnt'],\n",
    "                                       'srch_children_cnt': x['srch_children_cnt'],\n",
    "                                       'srch_rm_cnt': x['srch_rm_cnt'],\n",
    "                                       'srch_destination_id': x['srch_destination_id'],\n",
    "                                       'hotel_market': x['hotel_market'],\n",
    "                                       'days_to_checkin': x['days_to_checkin'],\n",
    "                                       'stay_length': x['stay_length'],\n",
    "                                       'month_of_booking': x['month_of_booking'],\n",
    "                                       'month_of_staying': x['month_of_staying']\n",
    "                                      }\n",
    "                           )\n",
    "\n",
    "unique = hotel_cluster['hotel_cluster'].unique()\n",
    "unique = pd.DataFrame(unique)\n",
    "unique.columns = ['hotel_cluster']\n",
    "hotel_cluster = tf.data.Dataset.from_tensor_slices(dict(unique))\n",
    "hotel_cluster = hotel_cluster.map(lambda x: x['hotel_cluster'])"
   ]
  },
  {
   "cell_type": "code",
   "execution_count": 8,
   "metadata": {},
   "outputs": [],
   "source": [
    "def convert_tensor_to_mapX_format(index, test): \n",
    "\n",
    "    '''\n",
    "    Function to map output of BruteForce Layer to nested list format for input to ML Metrics\n",
    "    \n",
    "    '''\n",
    "    \n",
    "    df = test.map(lambda x: {'user_id': x['user_id'],\n",
    "                             'user_location_city': x['user_location_city'],\n",
    "                             'is_mobile': x['is_mobile'],\n",
    "                             'is_package': x['is_package'],\n",
    "                             'channel': x['channel'],\n",
    "                             'srch_adults_cnt': x['srch_adults_cnt'],\n",
    "                             'srch_children_cnt': x['srch_children_cnt'],\n",
    "                             'srch_rm_cnt': x['srch_rm_cnt'],\n",
    "                             'srch_destination_id': x['srch_destination_id'],\n",
    "                             'hotel_market': x['hotel_market'],\n",
    "                             'days_to_checkin': x['days_to_checkin'],\n",
    "                             'stay_length': x['stay_length'],\n",
    "                             'month_of_booking': x['month_of_booking'],\n",
    "                             'month_of_staying': x['month_of_staying']\n",
    "                              }\n",
    "                   )\n",
    "    prediction = []\n",
    "\n",
    "    for row in df.batch(8192):\n",
    "        top = index(row)[1].numpy()[:, :5]\n",
    "        prediction += pd.DataFrame(top).apply(lambda x: [x[i].decode('utf-8') for i in range(len(x))], axis = 1).tolist()    \n",
    "    \n",
    "    return prediction"
   ]
  },
  {
   "cell_type": "code",
   "execution_count": 9,
   "metadata": {},
   "outputs": [],
   "source": [
    "class QueryModel(tf.keras.Model):\n",
    "    \n",
    "    def __init__(self):\n",
    "        super().__init__()             \n",
    "\n",
    "        embedding_dimension = 32\n",
    "        \n",
    "        # Embedding for all the features related to the user\n",
    "        \n",
    "        self.user_id_lookup = StringLookup()\n",
    "        self.user_id_lookup.adapt(preference.map(lambda x: x['user_id']))\n",
    "        self.user_id_embedding = Embedding(self.user_id_lookup.vocabulary_size(), embedding_dimension)\n",
    "        self.user_id_model = Sequential([self.user_id_lookup, self.user_id_embedding])\n",
    "        \n",
    "        self.user_location_city_lookup = StringLookup()\n",
    "        self.user_location_city_lookup.adapt(preference.map(lambda x: x['user_location_city']))\n",
    "        self.user_location_city_embedding = Embedding(self.user_location_city_lookup.vocabulary_size(), embedding_dimension)\n",
    "        self.user_location_city_model = Sequential([self.user_location_city_lookup, self.user_location_city_embedding])\n",
    "        \n",
    "        self.is_mobile_lookup = StringLookup()\n",
    "        self.is_mobile_lookup.adapt(preference.map(lambda x: x['is_mobile']))\n",
    "        self.is_mobile_embedding = Embedding(self.is_mobile_lookup.vocabulary_size(), embedding_dimension)\n",
    "        self.is_mobile_model = Sequential([self.is_mobile_lookup, self.is_mobile_embedding])\n",
    "        \n",
    "        self.is_package_lookup = StringLookup()\n",
    "        self.is_package_lookup.adapt(preference.map(lambda x: x['is_package']))\n",
    "        self.is_package_embedding = Embedding(self.is_package_lookup.vocabulary_size(), embedding_dimension)\n",
    "        self.is_package_model = Sequential([self.is_package_lookup, self.is_package_embedding])\n",
    "        \n",
    "        self.channel_lookup = StringLookup()\n",
    "        self.channel_lookup.adapt(preference.map(lambda x: x['channel']))\n",
    "        self.channel_embedding = Embedding(self.channel_lookup.vocabulary_size(), embedding_dimension)\n",
    "        self.channel_model = Sequential([self.channel_lookup, self.channel_embedding])\n",
    "\n",
    "        self.srch_adults_cnt_lookup = StringLookup()\n",
    "        self.srch_adults_cnt_lookup.adapt(preference.map(lambda x: x['srch_adults_cnt']))\n",
    "        self.srch_adults_cnt_embedding = Embedding(self.srch_adults_cnt_lookup.vocabulary_size(), embedding_dimension)\n",
    "        self.srch_adults_cnt_model = Sequential([self.srch_adults_cnt_lookup, self.srch_adults_cnt_embedding])        \n",
    "\n",
    "        self.srch_children_cnt_lookup = StringLookup()\n",
    "        self.srch_children_cnt_lookup.adapt(preference.map(lambda x: x['srch_children_cnt']))\n",
    "        self.srch_children_cnt_embedding = Embedding(self.srch_children_cnt_lookup.vocabulary_size(), embedding_dimension)\n",
    "        self.srch_children_cnt_model = Sequential([self.srch_children_cnt_lookup, self.srch_children_cnt_embedding])     \n",
    "\n",
    "        self.srch_rm_cnt_lookup = StringLookup()\n",
    "        self.srch_rm_cnt_lookup.adapt(preference.map(lambda x: x['srch_rm_cnt']))\n",
    "        self.srch_rm_cnt_embedding = Embedding(self.srch_rm_cnt_lookup.vocabulary_size(), embedding_dimension)\n",
    "        self.srch_rm_cnt_model = Sequential([self.srch_rm_cnt_lookup, self.srch_rm_cnt_embedding])   \n",
    "        \n",
    "        self.srch_destination_id_lookup = StringLookup()\n",
    "        self.srch_destination_id_lookup.adapt(preference.map(lambda x: x['srch_destination_id']))\n",
    "        self.srch_destination_id_embedding = Embedding(self.srch_destination_id_lookup.vocabulary_size(), embedding_dimension)\n",
    "        self.srch_destination_id_model = Sequential([self.srch_destination_id_lookup, self.srch_destination_id_embedding])\n",
    "         \n",
    "        self.hotel_market_lookup = StringLookup()\n",
    "        self.hotel_market_lookup.adapt(preference.map(lambda x: x['hotel_market']))\n",
    "        self.hotel_market_embedding = Embedding(self.hotel_market_lookup.vocabulary_size(), embedding_dimension)\n",
    "        self.hotel_market_model = Sequential([self.hotel_market_lookup, self.hotel_market_embedding])       \n",
    " \n",
    "        self.days_to_checkin_lookup = StringLookup()\n",
    "        self.days_to_checkin_lookup.adapt(preference.map(lambda x: x['days_to_checkin']))\n",
    "        self.days_to_checkin_embedding = Embedding(self.days_to_checkin_lookup.vocabulary_size(), embedding_dimension)\n",
    "        self.days_to_checkin_model = Sequential([self.days_to_checkin_lookup, self.days_to_checkin_embedding])            \n",
    "        \n",
    "        self.stay_length_lookup = StringLookup()\n",
    "        self.stay_length_lookup.adapt(preference.map(lambda x: x['stay_length']))\n",
    "        self.stay_length_embedding = Embedding(self.stay_length_lookup.vocabulary_size(), embedding_dimension)\n",
    "        self.stay_length_model = Sequential([self.stay_length_lookup, self.stay_length_embedding])      \n",
    "                \n",
    "        self.month_of_booking_lookup = StringLookup()\n",
    "        self.month_of_booking_lookup.adapt(preference.map(lambda x: x['month_of_booking']))\n",
    "        self.month_of_booking_embedding = Embedding(self.month_of_booking_lookup.vocabulary_size(), embedding_dimension)\n",
    "        self.month_of_booking_model = Sequential([self.month_of_booking_lookup, self.month_of_booking_embedding])      \n",
    "                \n",
    "        self.month_of_staying_lookup = StringLookup()\n",
    "        self.month_of_staying_lookup.adapt(preference.map(lambda x: x['month_of_staying']))\n",
    "        self.month_of_staying_embedding = Embedding(self.month_of_staying_lookup.vocabulary_size(), embedding_dimension)\n",
    "        self.month_of_staying_model = Sequential([self.month_of_staying_lookup, self.month_of_staying_embedding])    \n",
    "        \n",
    "        \n",
    "    def call(self, inputs):\n",
    "        \n",
    "    # Take the input dictionary, pass it through each input layer and concatenate the result.\n",
    "    \n",
    "        return tf.concat([\n",
    "            self.user_id_model(inputs[\"user_id\"]),\n",
    "            self.user_location_city_model(inputs[\"user_location_city\"]),\n",
    "            self.is_mobile_model(inputs[\"is_mobile\"]),\n",
    "            self.is_package_model(inputs[\"is_package\"]),\n",
    "            self.channel_model(inputs[\"channel\"]),\n",
    "            self.srch_adults_cnt_model(inputs[\"srch_adults_cnt\"]),\n",
    "            self.srch_children_cnt_model(inputs[\"srch_children_cnt\"]),\n",
    "            self.srch_rm_cnt_model(inputs[\"srch_rm_cnt\"]),\n",
    "            self.srch_destination_id_model(inputs[\"srch_destination_id\"]),\n",
    "            self.hotel_market_model(inputs[\"hotel_market\"]),\n",
    "            self.days_to_checkin_model(inputs[\"days_to_checkin\"]),\n",
    "            self.stay_length_model(inputs[\"stay_length\"]),\n",
    "            self.month_of_booking_model(inputs[\"month_of_booking\"]),\n",
    "            self.month_of_staying_model(inputs[\"month_of_staying\"])\n",
    "            \n",
    "        ], axis=1)"
   ]
  },
  {
   "cell_type": "code",
   "execution_count": 10,
   "metadata": {},
   "outputs": [],
   "source": [
    "class CandidateModel(tf.keras.Model):\n",
    "    \n",
    "    def __init__(self):\n",
    "        super().__init__()     \n",
    "\n",
    "        embedding_dimension = 32 \n",
    "\n",
    "        self.hotel_cluster_lookup = StringLookup()\n",
    "        self.hotel_cluster_lookup.adapt(preference.map(lambda x: x['hotel_cluster']))\n",
    "        self.hotel_cluster_embedding = Embedding(self.hotel_cluster_lookup.vocabulary_size(), embedding_dimension)\n",
    "        self.hotel_cluster_model = Sequential([self.hotel_cluster_lookup, self.hotel_cluster_embedding])\n",
    "\n",
    "    def call(self, inputs):\n",
    "    \n",
    "        return tf.concat([\n",
    "            self.hotel_cluster_model(inputs),            \n",
    "        ], axis=1)"
   ]
  },
  {
   "cell_type": "code",
   "execution_count": 11,
   "metadata": {},
   "outputs": [],
   "source": [
    "class RetrievalModelAdvanced(tfrs.models.Model):\n",
    "    \n",
    "    def __init__(self):\n",
    "        super().__init__()\n",
    "\n",
    "        # calling the QueryModel and putting another layer to shape the number of outputs\n",
    "        self.query_model = Sequential([\n",
    "            QueryModel(),\n",
    "            Dense(32)\n",
    "        ])\n",
    "        \n",
    "        # calling the Candidate Model and putting another layer to shape the number of outputs\n",
    "        self.candidate_model = Sequential([\n",
    "            CandidateModel(),\n",
    "            Dense(32)\n",
    "        ])\n",
    "        \n",
    "        metrics = tfrs.metrics.FactorizedTopK(candidates = hotel_cluster.batch(128).map(self.candidate_model))                  \n",
    "        self.task = tfrs.tasks.Retrieval(metrics = metrics);\n",
    "            \n",
    "    def compute_loss(self, features, training=False):\n",
    "        \n",
    "        query_embeddings = self.query_model({\n",
    "            'user_id': features['user_id'],\n",
    "            'user_location_city': features['user_location_city'],\n",
    "            'is_mobile': features['is_mobile'],\n",
    "            'is_package': features['is_package'],\n",
    "            'channel': features['channel'],\n",
    "            'srch_adults_cnt': features['srch_adults_cnt'],\n",
    "            'srch_children_cnt': features['srch_children_cnt'],\n",
    "            'srch_rm_cnt': features['srch_rm_cnt'],\n",
    "            'srch_destination_id': features['srch_destination_id'],\n",
    "            'hotel_market': features['hotel_market'],\n",
    "            'days_to_checkin': features['days_to_checkin'],\n",
    "            'stay_length': features['stay_length'],\n",
    "            'month_of_booking': features['month_of_booking'],\n",
    "            'month_of_staying': features['month_of_staying'],\n",
    "        })\n",
    "        \n",
    "        hotel_embeddings = self.candidate_model(features['hotel_cluster'])\n",
    "\n",
    "        return self.task(query_embeddings, hotel_embeddings)"
   ]
  },
  {
   "cell_type": "code",
   "execution_count": 12,
   "metadata": {},
   "outputs": [],
   "source": [
    "# train_test_split\n",
    "\n",
    "tf.random.set_seed(16)\n",
    "\n",
    "datasize = len(data_sub)\n",
    "test_ratio = 0.25\n",
    "train_size = int((1- test_ratio) * datasize)\n",
    "test_size = int(test_ratio * datasize)\n",
    "\n",
    "shuffled = preference.shuffle(datasize, seed=16, reshuffle_each_iteration=False)\n",
    "train = shuffled.take(train_size)\n",
    "test = shuffled.skip(train_size).take(test_size)\n",
    "\n",
    "cached_train = train.shuffle(datasize).batch(8192).cache()\n",
    "cached_test = test.batch(4096).cache()"
   ]
  },
  {
   "cell_type": "code",
   "execution_count": 13,
   "metadata": {},
   "outputs": [],
   "source": [
    "model = RetrievalModelAdvanced()\n",
    "model.compile(optimizer=tf.keras.optimizers.Adagrad(0.1))"
   ]
  },
  {
   "cell_type": "code",
   "execution_count": 14,
   "metadata": {},
   "outputs": [],
   "source": [
    "# logdir=\"../logs/fit/\" + datetime.datetime.now().strftime(\"%Y%m%d-%H%M%S\")\n",
    "# tensorboard_callback = tf.keras.callbacks.TensorBoard(log_dir=logdir)\n",
    "# %tensorboard --logdir {logdir}\n",
    "\n",
    "#  ,callbacks = [tensorboard_callback]"
   ]
  },
  {
   "cell_type": "code",
   "execution_count": 15,
   "metadata": {},
   "outputs": [
    {
     "name": "stdout",
     "output_type": "stream",
     "text": [
      "Epoch 1/5\n",
      "10/10 [==============================] - 28s 2s/step - factorized_top_k/top_1_categorical_accuracy: 0.0185 - factorized_top_k/top_5_categorical_accuracy: 0.0963 - factorized_top_k/top_10_categorical_accuracy: 0.1674 - factorized_top_k/top_50_categorical_accuracy: 0.5716 - factorized_top_k/top_100_categorical_accuracy: 0.9973 - loss: 114236.3778 - regularization_loss: 0.0000e+00 - total_loss: 114236.3778 - val_factorized_top_k/top_1_categorical_accuracy: 0.0316 - val_factorized_top_k/top_5_categorical_accuracy: 0.1778 - val_factorized_top_k/top_10_categorical_accuracy: 0.2931 - val_factorized_top_k/top_50_categorical_accuracy: 0.7552 - val_factorized_top_k/top_100_categorical_accuracy: 1.0000 - val_loss: 2439.9531 - val_regularization_loss: 0.0000e+00 - val_total_loss: 2439.9531\n",
      "Epoch 2/5\n",
      "10/10 [==============================] - 15s 1s/step - factorized_top_k/top_1_categorical_accuracy: 0.0478 - factorized_top_k/top_5_categorical_accuracy: 0.2417 - factorized_top_k/top_10_categorical_accuracy: 0.3849 - factorized_top_k/top_50_categorical_accuracy: 0.8181 - factorized_top_k/top_100_categorical_accuracy: 1.0000 - loss: 58518.5515 - regularization_loss: 0.0000e+00 - total_loss: 58518.5515 - val_factorized_top_k/top_1_categorical_accuracy: 0.0548 - val_factorized_top_k/top_5_categorical_accuracy: 0.2588 - val_factorized_top_k/top_10_categorical_accuracy: 0.4079 - val_factorized_top_k/top_50_categorical_accuracy: 0.8332 - val_factorized_top_k/top_100_categorical_accuracy: 1.0000 - val_loss: 2316.8735 - val_regularization_loss: 0.0000e+00 - val_total_loss: 2316.8735\n",
      "Epoch 3/5\n",
      "10/10 [==============================] - 14s 1s/step - factorized_top_k/top_1_categorical_accuracy: 0.0697 - factorized_top_k/top_5_categorical_accuracy: 0.3162 - factorized_top_k/top_10_categorical_accuracy: 0.4706 - factorized_top_k/top_50_categorical_accuracy: 0.8736 - factorized_top_k/top_100_categorical_accuracy: 1.0000 - loss: 56817.3762 - regularization_loss: 0.0000e+00 - total_loss: 56817.3762 - val_factorized_top_k/top_1_categorical_accuracy: 0.0670 - val_factorized_top_k/top_5_categorical_accuracy: 0.2960 - val_factorized_top_k/top_10_categorical_accuracy: 0.4408 - val_factorized_top_k/top_50_categorical_accuracy: 0.8573 - val_factorized_top_k/top_100_categorical_accuracy: 0.9999 - val_loss: 2273.3574 - val_regularization_loss: 0.0000e+00 - val_total_loss: 2273.3574\n",
      "Epoch 4/5\n",
      "10/10 [==============================] - 14s 1s/step - factorized_top_k/top_1_categorical_accuracy: 0.0829 - factorized_top_k/top_5_categorical_accuracy: 0.3575 - factorized_top_k/top_10_categorical_accuracy: 0.5150 - factorized_top_k/top_50_categorical_accuracy: 0.9002 - factorized_top_k/top_100_categorical_accuracy: 1.0000 - loss: 55720.7045 - regularization_loss: 0.0000e+00 - total_loss: 55720.7045 - val_factorized_top_k/top_1_categorical_accuracy: 0.0743 - val_factorized_top_k/top_5_categorical_accuracy: 0.3172 - val_factorized_top_k/top_10_categorical_accuracy: 0.4661 - val_factorized_top_k/top_50_categorical_accuracy: 0.8739 - val_factorized_top_k/top_100_categorical_accuracy: 1.0000 - val_loss: 2246.6570 - val_regularization_loss: 0.0000e+00 - val_total_loss: 2246.6570\n",
      "Epoch 5/5\n",
      "10/10 [==============================] - 14s 1s/step - factorized_top_k/top_1_categorical_accuracy: 0.0935 - factorized_top_k/top_5_categorical_accuracy: 0.3899 - factorized_top_k/top_10_categorical_accuracy: 0.5529 - factorized_top_k/top_50_categorical_accuracy: 0.9181 - factorized_top_k/top_100_categorical_accuracy: 1.0000 - loss: 54834.7085 - regularization_loss: 0.0000e+00 - total_loss: 54834.7085 - val_factorized_top_k/top_1_categorical_accuracy: 0.0807 - val_factorized_top_k/top_5_categorical_accuracy: 0.3381 - val_factorized_top_k/top_10_categorical_accuracy: 0.4867 - val_factorized_top_k/top_50_categorical_accuracy: 0.8886 - val_factorized_top_k/top_100_categorical_accuracy: 1.0000 - val_loss: 2229.0759 - val_regularization_loss: 0.0000e+00 - val_total_loss: 2229.0759\n"
     ]
    }
   ],
   "source": [
    "history = model.fit(cached_train, validation_data=cached_test, epochs=5, batch_size = 8192)"
   ]
  },
  {
   "cell_type": "code",
   "execution_count": 16,
   "metadata": {},
   "outputs": [
    {
     "data": {
      "image/png": "[encoded data removed]",
      "text/plain": [
       "<Figure size 432x288 with 1 Axes>"
      ]
     },
     "metadata": {
      "needs_background": "light"
     },
     "output_type": "display_data"
    }
   ],
   "source": [
    "plt.plot(history.history['loss'], label = 'Train loss')\n",
    "plt.plot(history.history['val_loss'], label = 'Test loss')\n",
    "plt.legend();"
   ]
  },
  {
   "cell_type": "code",
   "execution_count": 17,
   "metadata": {},
   "outputs": [
    {
     "data": {
      "image/png": "[encoded data removed]",
      "text/plain": [
       "<Figure size 432x288 with 1 Axes>"
      ]
     },
     "metadata": {
      "needs_background": "light"
     },
     "output_type": "display_data"
    }
   ],
   "source": [
    "plt.plot(history.history['factorized_top_k/top_5_categorical_accuracy'], label = 'factorized_top_k/top_5_categorical_accuracy')\n",
    "plt.plot(history.history['val_factorized_top_k/top_5_categorical_accuracy'], label = 'val_factorized_top_k/top_5_categorical_accuracy')\n",
    "plt.legend();"
   ]
  },
  {
   "cell_type": "code",
   "execution_count": 18,
   "metadata": {},
   "outputs": [
    {
     "name": "stdout",
     "output_type": "stream",
     "text": [
      "10/10 [==============================] - 9s 859ms/step - factorized_top_k/top_1_categorical_accuracy: 0.1068 - factorized_top_k/top_5_categorical_accuracy: 0.4235 - factorized_top_k/top_10_categorical_accuracy: 0.5860 - factorized_top_k/top_50_categorical_accuracy: 0.9337 - factorized_top_k/top_100_categorical_accuracy: 1.0000 - loss: 54071.0453 - regularization_loss: 0.0000e+00 - total_loss: 54071.0453\n"
     ]
    },
    {
     "data": {
      "text/plain": [
       "{'factorized_top_k/top_1_categorical_accuracy': 0.10678666830062866,\n",
       " 'factorized_top_k/top_5_categorical_accuracy': 0.4235466718673706,\n",
       " 'factorized_top_k/top_10_categorical_accuracy': 0.5859866738319397,\n",
       " 'factorized_top_k/top_50_categorical_accuracy': 0.9337199926376343,\n",
       " 'factorized_top_k/top_100_categorical_accuracy': 1.0,\n",
       " 'loss': 7592.4111328125,\n",
       " 'regularization_loss': 0,\n",
       " 'total_loss': 7592.4111328125}"
      ]
     },
     "execution_count": 18,
     "metadata": {},
     "output_type": "execute_result"
    }
   ],
   "source": [
    "model.evaluate(cached_train, return_dict=True)"
   ]
  },
  {
   "cell_type": "code",
   "execution_count": 19,
   "metadata": {},
   "outputs": [
    {
     "name": "stdout",
     "output_type": "stream",
     "text": [
      "7/7 [==============================] - 2s 311ms/step - factorized_top_k/top_1_categorical_accuracy: 0.0807 - factorized_top_k/top_5_categorical_accuracy: 0.3381 - factorized_top_k/top_10_categorical_accuracy: 0.4867 - factorized_top_k/top_50_categorical_accuracy: 0.8886 - factorized_top_k/top_100_categorical_accuracy: 1.0000 - loss: 23491.2487 - regularization_loss: 0.0000e+00 - total_loss: 23491.2487\n"
     ]
    },
    {
     "data": {
      "text/plain": [
       "{'factorized_top_k/top_1_categorical_accuracy': 0.0806799978017807,\n",
       " 'factorized_top_k/top_5_categorical_accuracy': 0.3381200134754181,\n",
       " 'factorized_top_k/top_10_categorical_accuracy': 0.4867199957370758,\n",
       " 'factorized_top_k/top_50_categorical_accuracy': 0.8885999917984009,\n",
       " 'factorized_top_k/top_100_categorical_accuracy': 1.0,\n",
       " 'loss': 2229.075927734375,\n",
       " 'regularization_loss': 0,\n",
       " 'total_loss': 2229.075927734375}"
      ]
     },
     "execution_count": 19,
     "metadata": {},
     "output_type": "execute_result"
    }
   ],
   "source": [
    "model.evaluate(cached_test, return_dict=True)"
   ]
  },
  {
   "cell_type": "code",
   "execution_count": 44,
   "metadata": {},
   "outputs": [
    {
     "data": {
      "text/plain": [
       "<tensorflow_recommenders.layers.factorized_top_k.BruteForce at 0x167cc0bb910>"
      ]
     },
     "execution_count": 44,
     "metadata": {},
     "output_type": "execute_result"
    }
   ],
   "source": [
    "# Use brute-force search to set up retrieval\n",
    "\n",
    "index = tfrs.layers.factorized_top_k.BruteForce(model.query_model)\n",
    "index.index_from_dataset(hotel_cluster.batch(1000).map(model.candidate_model))"
   ]
  },
  {
   "cell_type": "code",
   "execution_count": 47,
   "metadata": {},
   "outputs": [
    {
     "name": "stdout",
     "output_type": "stream",
     "text": [
      "Top 5 recommendations for user 94390: [70 69 42 81 44 10 36 20 47 33]\n",
      "Scores for top 5: [2.0061088 1.8982155 1.8571713 1.8361195 1.8234414]\n"
     ]
    }
   ],
   "source": [
    "# Recommendation for 1 input\n",
    "\n",
    "input = {'user_id': tf.constant(['12']),\n",
    "         'user_location_city': tf.constant(['41898']),\n",
    "         'is_mobile': tf.constant(['0']),\n",
    "         'is_package': tf.constant(['0']),\n",
    "         'channel': tf.constant(['0']),\n",
    "         'srch_adults_cnt': tf.constant(['2']),\n",
    "         'srch_children_cnt': tf.constant(['2']),\n",
    "         'srch_rm_cnt': tf.constant(['1']),\n",
    "         'srch_destination_id': tf.constant(['53']),\n",
    "         'hotel_market': tf.constant(['53']),\n",
    "         'days_to_checkin': tf.constant(['1']),\n",
    "         'stay_length': tf.constant(['1']),\n",
    "         'month_of_booking': tf.constant(['4']),\n",
    "         'month_of_staying': tf.constant(['6']),\n",
    "         \n",
    "        }\n",
    "\n",
    "score, recommend = index(input)\n",
    "\n",
    "print(f\"Top 5 recommendations for user 94390: {recommend[0, :10]}\")\n",
    "print(f'Scores for top 5: {score[0, :5]}')"
   ]
  },
  {
   "cell_type": "code",
   "execution_count": null,
   "metadata": {},
   "outputs": [],
   "source": []
  },
  {
   "cell_type": "code",
   "execution_count": null,
   "metadata": {},
   "outputs": [],
   "source": []
  }
 ],
 "metadata": {
  "interpreter": {
   "hash": "23bf0724a01b6ea9814e66f76182ea78c0ee849a72ca257c0e116bf83bb4960a"
  },
  "kernelspec": {
   "display_name": "Python 3.9.7 ('base')",
   "language": "python",
   "name": "python3"
  },
  "language_info": {
   "codemirror_mode": {
    "name": "ipython",
    "version": 3
   },
   "file_extension": ".py",
   "mimetype": "text/x-python",
   "name": "python",
   "nbconvert_exporter": "python",
   "pygments_lexer": "ipython3",
   "version": "3.9.7"
  },
  "orig_nbformat": 4
 },
 "nbformat": 4,
 "nbformat_minor": 2
}
